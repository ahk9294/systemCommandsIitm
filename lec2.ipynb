{
 "cells": [
  {
   "cell_type": "markdown",
   "id": "50b87bc7",
   "metadata": {},
   "source": [
    "# System commands | Lecture 2\n",
    "##  Prof. Gandham Phannikumar | IIT Madras\n",
    "In this course 'system commands' we will learn to work with *Linux operating system*.<br><br>We will learn to use the linuxOS from *Command line environment*.<br>\n",
    "<hr>\n",
    "\n",
    "###### But Why would anyone like to work in Command Line environment?\n",
    "<sup>[-Prof GP-] </sup>When we are working with **Linux operating system** we will be able to use it to its fullest potential when we are comfortable with *commands* and *command line environment*.<br><br>We can *combine* these commands to form a **script**.<br><br>And then we can use these scripts to be launched at specific times and thereby *automate* some of the task that we wolud like to do in the Linux environment.<br><br>So the command line environment should be seen as not only a way you type out *instructions* to the computer, but also as a path towards **automation**.\n",
    "<hr>"
   ]
  },
  {
   "cell_type": "markdown",
   "id": "48de5e1a",
   "metadata": {},
   "source": [
    "\n",
    "## The Terminal emulator\n",
    "To \"type\" commands and work with the operating system we need a *command line environment* which is provided by an app called *terminal emulator*.<br>There are several terminal emulators available in different distributions of the Linux OS.<br><br>Some of them are -\n",
    "- **Terminal** in ubuntu (available GNOME Environment and highly customizable).\n",
    "- **Exter**.\n",
    "- **Guake** (can be activated and deactivated with F12, once it is installed it will remain in the background listening to your commands.You can open or close it at your wish).\n",
    "- **console** (mainly available in KDE environment of the Linux OS).\n",
    "<br><br><br>"
   ]
  },
  {
   "cell_type": "markdown",
   "id": "54a8bd9f",
   "metadata": {},
   "source": [
    "## The command prompt \n",
    "When we open the terminal emmulator we will notice a string like<br>```abh9294@abh9294-desktop:~$``` and \n",
    "<br><br><br>\n"
   ]
  },
  {
   "cell_type": "code",
   "execution_count": 4,
   "id": "81455691",
   "metadata": {
    "scrolled": true
   },
   "outputs": [
    {
     "name": "stdout",
     "output_type": "stream",
     "text": [
      " _1.odt           conda-cheatsheet.pdf    \u001b[0m\u001b[01;34mDownloads\u001b[0m   Result.pdf\n",
      " \u001b[01;34manaconda3\u001b[0m        d3_dr_curran_kelleher   LIFE        \u001b[01;34msnap\u001b[0m\n",
      " \u001b[01;34mcom.pieces.os\u001b[0m    \u001b[01;34mDesktop\u001b[0m                 \u001b[01;34mPictures\u001b[0m   'Untitled 1.odt'\n",
      " \u001b[01;34mcom.pieces.pfd\u001b[0m   \u001b[01;34mDocuments\u001b[0m               \u001b[01;34mrdb-alpha\u001b[0m   Untitled.ipynb\n"
     ]
    }
   ],
   "source": [
    "ls "
   ]
  },
  {
   "cell_type": "code",
   "execution_count": null,
   "id": "396b7976",
   "metadata": {},
   "outputs": [],
   "source": []
  }
 ],
 "metadata": {
  "kernelspec": {
   "display_name": "Bash",
   "language": "bash",
   "name": "bash"
  },
  "language_info": {
   "codemirror_mode": "shell",
   "file_extension": ".sh",
   "mimetype": "text/x-sh",
   "name": "bash"
  }
 },
 "nbformat": 4,
 "nbformat_minor": 5
}
